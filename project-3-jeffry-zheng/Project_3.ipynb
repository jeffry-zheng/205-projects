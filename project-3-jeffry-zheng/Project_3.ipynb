{
 "cells": [
  {
   "cell_type": "markdown",
   "metadata": {},
   "source": [
    "# Jeffry Zheng Project 3: Understanding User Behavior"
   ]
  },
  {
   "cell_type": "markdown",
   "metadata": {},
   "source": [
    "### Tasks"
   ]
  },
  {
   "cell_type": "markdown",
   "metadata": {},
   "source": [
    "- Instrument an API server to log events to Kafka\n",
    "\n",
    "- Assemble a data pipeline to catch these events: use Spark streaming to filter select event types from Kafka, land them into HDFS/parquet to make them available for analysis using Presto\n",
    "\n",
    "- Use Apache Bench to generate test data for the pipeline\n",
    "\n",
    "- Produce an analytics report which provides a description of the pipeline and some analysis of the events"
   ]
  },
  {
   "cell_type": "markdown",
   "metadata": {},
   "source": [
    "## Spinning up the pipeline"
   ]
  },
  {
   "cell_type": "markdown",
   "metadata": {},
   "source": [
    "Bringing up and editing the YAML file:\n",
    "    \n",
    "    cp ~/w205/course-content/13-Understanding-Data/docker-compose.yml ~/w205/project-3-jeffry-zheng\n",
    "\n",
    "YAML file was edited to allow port access for spark instead of cloudera.\n",
    "YAML file services include zookeeper, kafka, cloudera, spark, presto, and mids."
   ]
  },
  {
   "cell_type": "markdown",
   "metadata": {},
   "source": [
    "Spinning up the cluster:\n",
    "    \n",
    "    docker-compose up -d\n",
    "    docker-compose ps\n",
    "    docker ps -a"
   ]
  },
  {
   "cell_type": "markdown",
   "metadata": {},
   "source": [
    "Creating and checking topic \"events\":\n",
    "\n",
    "    docker-compose exec kafka kafka-topics --create --topic events --partitions 1 --replication-factor 1 --if-not-exists --zookeeper zookeeper:32181\n",
    "    docker-compose exec kafka kafka-topics --describe --topic events --zookeeper zookeeper:32181\n",
    "Setting up to watch kafka:\n",
    "    \n",
    "    docker-compose exec mids kafkacat -C -b kafka:29092 -t events -o beginning"
   ]
  },
  {
   "cell_type": "markdown",
   "metadata": {},
   "source": [
    "Bringing up and editing the flask app:\n",
    "\n",
    "    cp ~/w205/course-content/11-Storing-Data-III/game_api.py ~/w205/project-3-jeffry-zheng\n",
    "\n",
    "Web-app was edited to include mobile game events to be tracked: \"buy a sword\" & \"join guild\". Events include metadata characteristics (i.e., sword type, guild name, etc).\n"
   ]
  },
  {
   "cell_type": "markdown",
   "metadata": {},
   "source": [
    "Flask Take the web-app and run it:\n",
    "\n",
    "    docker-compose exec mids env FLASK_APP=/w205/project-3-jeffry-zheng/game_api.py flask run --host 0.0.0.0\n"
   ]
  },
  {
   "cell_type": "markdown",
   "metadata": {},
   "source": [
    "Generate initial test data using Apache Bench (non-streaming):\n",
    "\n",
    "    docker-compose exec mids ab -n 10 -H \"Host: user1.comcast.com\" http://localhost:5000/\n",
    "    docker-compose exec mids ab -n 10 -H \"Host: user1.comcast.com\" http://localhost:5000/purchase_a_sword\n",
    "    docker-compose exec mids ab -n 10 -H \"Host: user1.comcast.com\" http://localhost:5000/buy_a_sword\n",
    "    docker-compose exec mids ab -n 10 -H \"Host: user1.comcast.com\" http://localhost:5000/join_guild\n",
    "\n",
    "    docker-compose exec mids ab -n 10 -H \"Host: user2.att.com\" http://localhost:5000/\n",
    "    docker-compose exec mids ab -n 10 -H \"Host: user2.att.com\" http://localhost:5000/purchase_a_sword\n",
    "    docker-compose exec mids ab -n 10 -H \"Host: user2.att.com\" http://localhost:5000/buy_a_sword\n",
    "    docker-compose exec mids ab -n 10 -H \"Host: user2.att.com\" http://localhost:5000/join_guild"
   ]
  },
  {
   "cell_type": "markdown",
   "metadata": {},
   "source": [
    "Linking the Spark container to the /w205 mount point:\n",
    "\n",
    "    docker-compose exec spark bash\n",
    "    ln -s /w205 w205\n",
    "    exit"
   ]
  },
  {
   "cell_type": "markdown",
   "metadata": {},
   "source": [
    "Starting a Jupyter Notebook for a pyspark kernel:\n",
    "\n",
    "    docker-compose exec spark env PYSPARK_DRIVER_PYTHON=jupyter PYSPARK_DRIVER_PYTHON_OPTS='notebook --no-browser --port 8888 --ip 0.0.0.0 --allow-root' pyspark"
   ]
  },
  {
   "cell_type": "markdown",
   "metadata": {},
   "source": [
    "## Filtering and extracting events"
   ]
  },
  {
   "cell_type": "code",
   "execution_count": 1,
   "metadata": {
    "collapsed": true
   },
   "outputs": [],
   "source": [
    "import json\n",
    "from pyspark.sql import Row\n",
    "from pyspark.sql.functions import udf"
   ]
  },
  {
   "cell_type": "code",
   "execution_count": 2,
   "metadata": {},
   "outputs": [
    {
     "data": {
      "text/html": [
       "\n",
       "            <div>\n",
       "                <p><b>SparkSession - hive</b></p>\n",
       "                \n",
       "        <div>\n",
       "            <p><b>SparkContext</b></p>\n",
       "\n",
       "            <p><a href=\"http://172.28.0.6:4040\">Spark UI</a></p>\n",
       "\n",
       "            <dl>\n",
       "              <dt>Version</dt>\n",
       "                <dd><code>v2.2.0</code></dd>\n",
       "              <dt>Master</dt>\n",
       "                <dd><code>local[*]</code></dd>\n",
       "              <dt>AppName</dt>\n",
       "                <dd><code>PySparkShell</code></dd>\n",
       "            </dl>\n",
       "        </div>\n",
       "        \n",
       "            </div>\n",
       "        "
      ],
      "text/plain": [
       "<pyspark.sql.session.SparkSession at 0x7f37b6bc0e48>"
      ]
     },
     "execution_count": 2,
     "metadata": {},
     "output_type": "execute_result"
    }
   ],
   "source": [
    "spark"
   ]
  },
  {
   "cell_type": "code",
   "execution_count": 3,
   "metadata": {
    "collapsed": true
   },
   "outputs": [],
   "source": [
    "@udf('boolean')\n",
    "def is_purchase(event_as_json):\n",
    "    \"\"\"udf for filtering events\"\"\"\n",
    "    event = json.loads(event_as_json)\n",
    "    if event['event_type'] == 'purchase_sword':\n",
    "        return True\n",
    "    return False"
   ]
  },
  {
   "cell_type": "code",
   "execution_count": 4,
   "metadata": {
    "collapsed": true
   },
   "outputs": [],
   "source": [
    "@udf('boolean')\n",
    "def is_buy(event_as_json):\n",
    "    \"\"\"udf for filtering events\"\"\"\n",
    "    event = json.loads(event_as_json)\n",
    "    if event['event_type'] == 'buy_a_sword':\n",
    "        return True\n",
    "    return False"
   ]
  },
  {
   "cell_type": "code",
   "execution_count": 5,
   "metadata": {
    "collapsed": true
   },
   "outputs": [],
   "source": [
    "@udf('boolean')\n",
    "def is_join(event_as_json):\n",
    "    \"\"\"udf for filtering events\"\"\"\n",
    "    event = json.loads(event_as_json)\n",
    "    if event['event_type'] == 'join_guild':\n",
    "        return True\n",
    "    return False"
   ]
  },
  {
   "cell_type": "code",
   "execution_count": 6,
   "metadata": {
    "collapsed": true
   },
   "outputs": [],
   "source": [
    "raw_events = spark \\\n",
    "    .read \\\n",
    "    .format(\"kafka\") \\\n",
    "    .option(\"kafka.bootstrap.servers\", \"kafka:29092\") \\\n",
    "    .option(\"subscribe\", \"events\") \\\n",
    "    .option(\"startingOffsets\", \"earliest\") \\\n",
    "    .option(\"endingOffsets\", \"latest\") \\\n",
    "    .load()"
   ]
  },
  {
   "cell_type": "code",
   "execution_count": 9,
   "metadata": {},
   "outputs": [
    {
     "name": "stdout",
     "output_type": "stream",
     "text": [
      "+----+--------------------+------+---------+------+--------------------+-------------+\n",
      "| key|               value| topic|partition|offset|           timestamp|timestampType|\n",
      "+----+--------------------+------+---------+------+--------------------+-------------+\n",
      "|null|[7B 22 48 6F 73 7...|events|        0|     0|2020-12-09 09:58:...|            0|\n",
      "|null|[7B 22 48 6F 73 7...|events|        0|     1|2020-12-09 09:58:...|            0|\n",
      "|null|[7B 22 48 6F 73 7...|events|        0|     2|2020-12-09 09:58:...|            0|\n",
      "|null|[7B 22 48 6F 73 7...|events|        0|     3|2020-12-09 09:58:...|            0|\n",
      "|null|[7B 22 48 6F 73 7...|events|        0|     4|2020-12-09 09:58:...|            0|\n",
      "|null|[7B 22 48 6F 73 7...|events|        0|     5|2020-12-09 09:58:...|            0|\n",
      "|null|[7B 22 48 6F 73 7...|events|        0|     6|2020-12-09 09:58:...|            0|\n",
      "|null|[7B 22 48 6F 73 7...|events|        0|     7|2020-12-09 09:58:...|            0|\n",
      "|null|[7B 22 48 6F 73 7...|events|        0|     8|2020-12-09 09:58:...|            0|\n",
      "|null|[7B 22 48 6F 73 7...|events|        0|     9|2020-12-09 09:58:...|            0|\n",
      "|null|[7B 22 73 77 6F 7...|events|        0|    10|2020-12-09 09:58:...|            0|\n",
      "|null|[7B 22 73 77 6F 7...|events|        0|    11|2020-12-09 09:58:...|            0|\n",
      "|null|[7B 22 73 77 6F 7...|events|        0|    12|2020-12-09 09:58:...|            0|\n",
      "|null|[7B 22 73 77 6F 7...|events|        0|    13|2020-12-09 09:58:...|            0|\n",
      "|null|[7B 22 73 77 6F 7...|events|        0|    14|2020-12-09 09:58:...|            0|\n",
      "|null|[7B 22 73 77 6F 7...|events|        0|    15|2020-12-09 09:58:...|            0|\n",
      "|null|[7B 22 73 77 6F 7...|events|        0|    16|2020-12-09 09:58:...|            0|\n",
      "|null|[7B 22 73 77 6F 7...|events|        0|    17|2020-12-09 09:58:...|            0|\n",
      "|null|[7B 22 73 77 6F 7...|events|        0|    18|2020-12-09 09:58:...|            0|\n",
      "|null|[7B 22 73 77 6F 7...|events|        0|    19|2020-12-09 09:58:...|            0|\n",
      "+----+--------------------+------+---------+------+--------------------+-------------+\n",
      "only showing top 20 rows\n",
      "\n"
     ]
    }
   ],
   "source": [
    "raw_events.show()"
   ]
  },
  {
   "cell_type": "code",
   "execution_count": 10,
   "metadata": {
    "collapsed": true
   },
   "outputs": [],
   "source": [
    "# filtering for purchase events\n",
    "purchase_events = raw_events \\\n",
    "    .select(raw_events.value.cast('string').alias('raw'),\n",
    "            raw_events.timestamp.cast('string')) \\\n",
    "    .filter(is_purchase('raw'))"
   ]
  },
  {
   "cell_type": "code",
   "execution_count": 11,
   "metadata": {},
   "outputs": [
    {
     "name": "stdout",
     "output_type": "stream",
     "text": [
      "root\n",
      " |-- Accept: string (nullable = true)\n",
      " |-- Host: string (nullable = true)\n",
      " |-- User-Agent: string (nullable = true)\n",
      " |-- event_type: string (nullable = true)\n",
      " |-- sword_quality: string (nullable = true)\n",
      " |-- timestamp: string (nullable = true)\n",
      "\n"
     ]
    }
   ],
   "source": [
    "# extracting purchase events\n",
    "extracted_purchase_events = purchase_events \\\n",
    "    .rdd \\\n",
    "    .map(lambda r: Row(timestamp=r.timestamp, **json.loads(r.raw))) \\\n",
    "    .toDF()\n",
    "extracted_purchase_events.printSchema()"
   ]
  },
  {
   "cell_type": "code",
   "execution_count": 12,
   "metadata": {},
   "outputs": [
    {
     "name": "stdout",
     "output_type": "stream",
     "text": [
      "+------+-----------------+---------------+--------------+-------------+--------------------+\n",
      "|Accept|             Host|     User-Agent|    event_type|sword_quality|           timestamp|\n",
      "+------+-----------------+---------------+--------------+-------------+--------------------+\n",
      "|   */*|user1.comcast.com|ApacheBench/2.3|purchase_sword|          new|2020-12-09 09:58:...|\n",
      "|   */*|user1.comcast.com|ApacheBench/2.3|purchase_sword|          new|2020-12-09 09:58:...|\n",
      "|   */*|user1.comcast.com|ApacheBench/2.3|purchase_sword|          new|2020-12-09 09:58:...|\n",
      "|   */*|user1.comcast.com|ApacheBench/2.3|purchase_sword|          new|2020-12-09 09:58:...|\n",
      "|   */*|user1.comcast.com|ApacheBench/2.3|purchase_sword|          new|2020-12-09 09:58:...|\n",
      "|   */*|user1.comcast.com|ApacheBench/2.3|purchase_sword|          new|2020-12-09 09:58:...|\n",
      "|   */*|user1.comcast.com|ApacheBench/2.3|purchase_sword|          new|2020-12-09 09:58:...|\n",
      "|   */*|user1.comcast.com|ApacheBench/2.3|purchase_sword|          new|2020-12-09 09:58:...|\n",
      "|   */*|user1.comcast.com|ApacheBench/2.3|purchase_sword|          new|2020-12-09 09:58:...|\n",
      "|   */*|user1.comcast.com|ApacheBench/2.3|purchase_sword|          new|2020-12-09 09:58:...|\n",
      "|   */*|    user2.att.com|ApacheBench/2.3|purchase_sword|          new|2020-12-09 09:59:...|\n",
      "|   */*|    user2.att.com|ApacheBench/2.3|purchase_sword|          new|2020-12-09 09:59:...|\n",
      "|   */*|    user2.att.com|ApacheBench/2.3|purchase_sword|          new|2020-12-09 09:59:...|\n",
      "|   */*|    user2.att.com|ApacheBench/2.3|purchase_sword|          new|2020-12-09 09:59:...|\n",
      "|   */*|    user2.att.com|ApacheBench/2.3|purchase_sword|          new|2020-12-09 09:59:...|\n",
      "|   */*|    user2.att.com|ApacheBench/2.3|purchase_sword|          new|2020-12-09 09:59:...|\n",
      "|   */*|    user2.att.com|ApacheBench/2.3|purchase_sword|          new|2020-12-09 09:59:...|\n",
      "|   */*|    user2.att.com|ApacheBench/2.3|purchase_sword|          new|2020-12-09 09:59:...|\n",
      "|   */*|    user2.att.com|ApacheBench/2.3|purchase_sword|          new|2020-12-09 09:59:...|\n",
      "|   */*|    user2.att.com|ApacheBench/2.3|purchase_sword|          new|2020-12-09 09:59:...|\n",
      "+------+-----------------+---------------+--------------+-------------+--------------------+\n",
      "\n"
     ]
    }
   ],
   "source": [
    "extracted_purchase_events.show()"
   ]
  },
  {
   "cell_type": "code",
   "execution_count": 13,
   "metadata": {
    "collapsed": true
   },
   "outputs": [],
   "source": [
    "# filtering for buy sword events\n",
    "buy_events = raw_events \\\n",
    "    .select(raw_events.value.cast('string').alias('raw'),\n",
    "            raw_events.timestamp.cast('string')) \\\n",
    "    .filter(is_buy('raw'))"
   ]
  },
  {
   "cell_type": "code",
   "execution_count": 14,
   "metadata": {},
   "outputs": [
    {
     "name": "stdout",
     "output_type": "stream",
     "text": [
      "root\n",
      " |-- Accept: string (nullable = true)\n",
      " |-- Host: string (nullable = true)\n",
      " |-- User-Agent: string (nullable = true)\n",
      " |-- event_type: string (nullable = true)\n",
      " |-- sword_type: string (nullable = true)\n",
      " |-- timestamp: string (nullable = true)\n",
      "\n"
     ]
    }
   ],
   "source": [
    "# extracting buy sword events\n",
    "extracted_buy_events = buy_events \\\n",
    "    .rdd \\\n",
    "    .map(lambda r: Row(timestamp=r.timestamp, **json.loads(r.raw))) \\\n",
    "    .toDF()\n",
    "extracted_buy_events.printSchema()"
   ]
  },
  {
   "cell_type": "code",
   "execution_count": 15,
   "metadata": {},
   "outputs": [
    {
     "name": "stdout",
     "output_type": "stream",
     "text": [
      "+------+-----------------+---------------+-----------+----------+--------------------+\n",
      "|Accept|             Host|     User-Agent| event_type|sword_type|           timestamp|\n",
      "+------+-----------------+---------------+-----------+----------+--------------------+\n",
      "|   */*|user1.comcast.com|ApacheBench/2.3|buy_a_sword|     rusty|2020-12-09 09:58:...|\n",
      "|   */*|user1.comcast.com|ApacheBench/2.3|buy_a_sword|     rusty|2020-12-09 09:58:...|\n",
      "|   */*|user1.comcast.com|ApacheBench/2.3|buy_a_sword|     rusty|2020-12-09 09:58:...|\n",
      "|   */*|user1.comcast.com|ApacheBench/2.3|buy_a_sword|     rusty|2020-12-09 09:58:...|\n",
      "|   */*|user1.comcast.com|ApacheBench/2.3|buy_a_sword|     rusty|2020-12-09 09:58:...|\n",
      "|   */*|user1.comcast.com|ApacheBench/2.3|buy_a_sword|     rusty|2020-12-09 09:58:...|\n",
      "|   */*|user1.comcast.com|ApacheBench/2.3|buy_a_sword|     rusty|2020-12-09 09:58:...|\n",
      "|   */*|user1.comcast.com|ApacheBench/2.3|buy_a_sword|     rusty|2020-12-09 09:58:...|\n",
      "|   */*|user1.comcast.com|ApacheBench/2.3|buy_a_sword|     rusty|2020-12-09 09:58:...|\n",
      "|   */*|user1.comcast.com|ApacheBench/2.3|buy_a_sword|     rusty|2020-12-09 09:58:...|\n",
      "|   */*|    user2.att.com|ApacheBench/2.3|buy_a_sword|     rusty|2020-12-09 09:59:...|\n",
      "|   */*|    user2.att.com|ApacheBench/2.3|buy_a_sword|     rusty|2020-12-09 09:59:...|\n",
      "|   */*|    user2.att.com|ApacheBench/2.3|buy_a_sword|     rusty|2020-12-09 09:59:...|\n",
      "|   */*|    user2.att.com|ApacheBench/2.3|buy_a_sword|     rusty|2020-12-09 09:59:...|\n",
      "|   */*|    user2.att.com|ApacheBench/2.3|buy_a_sword|     rusty|2020-12-09 09:59:...|\n",
      "|   */*|    user2.att.com|ApacheBench/2.3|buy_a_sword|     rusty|2020-12-09 09:59:...|\n",
      "|   */*|    user2.att.com|ApacheBench/2.3|buy_a_sword|     rusty|2020-12-09 09:59:...|\n",
      "|   */*|    user2.att.com|ApacheBench/2.3|buy_a_sword|     rusty|2020-12-09 09:59:...|\n",
      "|   */*|    user2.att.com|ApacheBench/2.3|buy_a_sword|     rusty|2020-12-09 09:59:...|\n",
      "|   */*|    user2.att.com|ApacheBench/2.3|buy_a_sword|     rusty|2020-12-09 09:59:...|\n",
      "+------+-----------------+---------------+-----------+----------+--------------------+\n",
      "\n"
     ]
    }
   ],
   "source": [
    "extracted_buy_events.show()"
   ]
  },
  {
   "cell_type": "code",
   "execution_count": 16,
   "metadata": {
    "collapsed": true
   },
   "outputs": [],
   "source": [
    "# filtering for join guild events\n",
    "join_events = raw_events \\\n",
    "    .select(raw_events.value.cast('string').alias('raw'),\n",
    "            raw_events.timestamp.cast('string')) \\\n",
    "    .filter(is_join('raw'))"
   ]
  },
  {
   "cell_type": "code",
   "execution_count": 17,
   "metadata": {},
   "outputs": [
    {
     "name": "stdout",
     "output_type": "stream",
     "text": [
      "root\n",
      " |-- Accept: string (nullable = true)\n",
      " |-- Host: string (nullable = true)\n",
      " |-- User-Agent: string (nullable = true)\n",
      " |-- event_type: string (nullable = true)\n",
      " |-- guild_type: string (nullable = true)\n",
      " |-- timestamp: string (nullable = true)\n",
      "\n"
     ]
    }
   ],
   "source": [
    "# extracting join guild events\n",
    "extracted_join_events = join_events \\\n",
    "    .rdd \\\n",
    "    .map(lambda r: Row(timestamp=r.timestamp, **json.loads(r.raw))) \\\n",
    "    .toDF()\n",
    "extracted_join_events.printSchema()"
   ]
  },
  {
   "cell_type": "code",
   "execution_count": 18,
   "metadata": {},
   "outputs": [
    {
     "name": "stdout",
     "output_type": "stream",
     "text": [
      "+------+-----------------+---------------+----------+----------+--------------------+\n",
      "|Accept|             Host|     User-Agent|event_type|guild_type|           timestamp|\n",
      "+------+-----------------+---------------+----------+----------+--------------------+\n",
      "|   */*|user1.comcast.com|ApacheBench/2.3|join_guild|     Magic|2020-12-09 09:59:...|\n",
      "|   */*|user1.comcast.com|ApacheBench/2.3|join_guild|     Magic|2020-12-09 09:59:...|\n",
      "|   */*|user1.comcast.com|ApacheBench/2.3|join_guild|     Magic|2020-12-09 09:59:...|\n",
      "|   */*|user1.comcast.com|ApacheBench/2.3|join_guild|     Magic|2020-12-09 09:59:...|\n",
      "|   */*|user1.comcast.com|ApacheBench/2.3|join_guild|     Magic|2020-12-09 09:59:...|\n",
      "|   */*|user1.comcast.com|ApacheBench/2.3|join_guild|     Magic|2020-12-09 09:59:...|\n",
      "|   */*|user1.comcast.com|ApacheBench/2.3|join_guild|     Magic|2020-12-09 09:59:...|\n",
      "|   */*|user1.comcast.com|ApacheBench/2.3|join_guild|     Magic|2020-12-09 09:59:...|\n",
      "|   */*|user1.comcast.com|ApacheBench/2.3|join_guild|     Magic|2020-12-09 09:59:...|\n",
      "|   */*|user1.comcast.com|ApacheBench/2.3|join_guild|     Magic|2020-12-09 09:59:...|\n",
      "|   */*|    user2.att.com|ApacheBench/2.3|join_guild|     Magic|2020-12-09 09:59:...|\n",
      "|   */*|    user2.att.com|ApacheBench/2.3|join_guild|     Magic|2020-12-09 09:59:...|\n",
      "|   */*|    user2.att.com|ApacheBench/2.3|join_guild|     Magic|2020-12-09 09:59:...|\n",
      "|   */*|    user2.att.com|ApacheBench/2.3|join_guild|     Magic|2020-12-09 09:59:...|\n",
      "|   */*|    user2.att.com|ApacheBench/2.3|join_guild|     Magic|2020-12-09 09:59:...|\n",
      "|   */*|    user2.att.com|ApacheBench/2.3|join_guild|     Magic|2020-12-09 09:59:...|\n",
      "|   */*|    user2.att.com|ApacheBench/2.3|join_guild|     Magic|2020-12-09 09:59:...|\n",
      "|   */*|    user2.att.com|ApacheBench/2.3|join_guild|     Magic|2020-12-09 09:59:...|\n",
      "|   */*|    user2.att.com|ApacheBench/2.3|join_guild|     Magic|2020-12-09 09:59:...|\n",
      "|   */*|    user2.att.com|ApacheBench/2.3|join_guild|     Magic|2020-12-09 09:59:...|\n",
      "+------+-----------------+---------------+----------+----------+--------------------+\n",
      "\n"
     ]
    }
   ],
   "source": [
    "extracted_join_events.show()"
   ]
  },
  {
   "cell_type": "markdown",
   "metadata": {},
   "source": [
    "## Landing events in HDFS/parquet"
   ]
  },
  {
   "cell_type": "code",
   "execution_count": 19,
   "metadata": {
    "collapsed": true
   },
   "outputs": [],
   "source": [
    "# writing purchase events to HDFS\n",
    "extracted_purchase_events \\\n",
    "    .write \\\n",
    "    .mode('overwrite') \\\n",
    "    .parquet('/tmp/purchases')"
   ]
  },
  {
   "cell_type": "code",
   "execution_count": 20,
   "metadata": {
    "collapsed": true
   },
   "outputs": [],
   "source": [
    "# writing buy sword events to HDFS\n",
    "extracted_buy_events \\\n",
    "    .write \\\n",
    "    .mode('overwrite') \\\n",
    "    .parquet('/tmp/buy_a_sword')"
   ]
  },
  {
   "cell_type": "code",
   "execution_count": 21,
   "metadata": {
    "collapsed": true
   },
   "outputs": [],
   "source": [
    "# writing join guild events to HDFS\n",
    "extracted_join_events \\\n",
    "    .write \\\n",
    "    .mode('overwrite') \\\n",
    "    .parquet('/tmp/join_guild')"
   ]
  },
  {
   "cell_type": "markdown",
   "metadata": {},
   "source": [
    "## Checking results in hadoop\n",
    "\n",
    "All directories:\n",
    "\n",
    "    docker-compose exec cloudera hadoop fs -ls /tmp/\n",
    "Individual directories:\n",
    "\n",
    "    docker-compose exec cloudera hadoop fs -ls /tmp/purchases\n",
    "    docker-compose exec cloudera hadoop fs -ls /tmp/buy_a_sword\n",
    "    docker-compose exec cloudera hadoop fs -ls /tmp/join_guild"
   ]
  },
  {
   "cell_type": "markdown",
   "metadata": {},
   "source": [
    "## Analytics using Spark SQL on the Spark Dataframe in Memory"
   ]
  },
  {
   "cell_type": "code",
   "execution_count": 22,
   "metadata": {
    "collapsed": true
   },
   "outputs": [],
   "source": [
    "purchases = spark.read.parquet('/tmp/purchases')"
   ]
  },
  {
   "cell_type": "code",
   "execution_count": 23,
   "metadata": {},
   "outputs": [
    {
     "name": "stdout",
     "output_type": "stream",
     "text": [
      "+------+-----------------+---------------+--------------+-------------+--------------------+\n",
      "|Accept|             Host|     User-Agent|    event_type|sword_quality|           timestamp|\n",
      "+------+-----------------+---------------+--------------+-------------+--------------------+\n",
      "|   */*|user1.comcast.com|ApacheBench/2.3|purchase_sword|          new|2020-12-09 09:58:...|\n",
      "|   */*|user1.comcast.com|ApacheBench/2.3|purchase_sword|          new|2020-12-09 09:58:...|\n",
      "|   */*|user1.comcast.com|ApacheBench/2.3|purchase_sword|          new|2020-12-09 09:58:...|\n",
      "|   */*|user1.comcast.com|ApacheBench/2.3|purchase_sword|          new|2020-12-09 09:58:...|\n",
      "|   */*|user1.comcast.com|ApacheBench/2.3|purchase_sword|          new|2020-12-09 09:58:...|\n",
      "|   */*|user1.comcast.com|ApacheBench/2.3|purchase_sword|          new|2020-12-09 09:58:...|\n",
      "|   */*|user1.comcast.com|ApacheBench/2.3|purchase_sword|          new|2020-12-09 09:58:...|\n",
      "|   */*|user1.comcast.com|ApacheBench/2.3|purchase_sword|          new|2020-12-09 09:58:...|\n",
      "|   */*|user1.comcast.com|ApacheBench/2.3|purchase_sword|          new|2020-12-09 09:58:...|\n",
      "|   */*|user1.comcast.com|ApacheBench/2.3|purchase_sword|          new|2020-12-09 09:58:...|\n",
      "|   */*|    user2.att.com|ApacheBench/2.3|purchase_sword|          new|2020-12-09 09:59:...|\n",
      "|   */*|    user2.att.com|ApacheBench/2.3|purchase_sword|          new|2020-12-09 09:59:...|\n",
      "|   */*|    user2.att.com|ApacheBench/2.3|purchase_sword|          new|2020-12-09 09:59:...|\n",
      "|   */*|    user2.att.com|ApacheBench/2.3|purchase_sword|          new|2020-12-09 09:59:...|\n",
      "|   */*|    user2.att.com|ApacheBench/2.3|purchase_sword|          new|2020-12-09 09:59:...|\n",
      "|   */*|    user2.att.com|ApacheBench/2.3|purchase_sword|          new|2020-12-09 09:59:...|\n",
      "|   */*|    user2.att.com|ApacheBench/2.3|purchase_sword|          new|2020-12-09 09:59:...|\n",
      "|   */*|    user2.att.com|ApacheBench/2.3|purchase_sword|          new|2020-12-09 09:59:...|\n",
      "|   */*|    user2.att.com|ApacheBench/2.3|purchase_sword|          new|2020-12-09 09:59:...|\n",
      "|   */*|    user2.att.com|ApacheBench/2.3|purchase_sword|          new|2020-12-09 09:59:...|\n",
      "+------+-----------------+---------------+--------------+-------------+--------------------+\n",
      "\n"
     ]
    }
   ],
   "source": [
    "purchases.show()"
   ]
  },
  {
   "cell_type": "code",
   "execution_count": 24,
   "metadata": {
    "collapsed": true
   },
   "outputs": [],
   "source": [
    "purchases.registerTempTable('purchases')"
   ]
  },
  {
   "cell_type": "markdown",
   "metadata": {},
   "source": [
    "Analytics question: What purchase sword events were conducted by user1.comcast.com?"
   ]
  },
  {
   "cell_type": "code",
   "execution_count": 25,
   "metadata": {
    "collapsed": true
   },
   "outputs": [],
   "source": [
    "purchases_by_host1 = spark.sql(\"select * from purchases where Host = 'user1.comcast.com'\")"
   ]
  },
  {
   "cell_type": "code",
   "execution_count": 26,
   "metadata": {},
   "outputs": [
    {
     "name": "stdout",
     "output_type": "stream",
     "text": [
      "+------+-----------------+---------------+--------------+-------------+--------------------+\n",
      "|Accept|             Host|     User-Agent|    event_type|sword_quality|           timestamp|\n",
      "+------+-----------------+---------------+--------------+-------------+--------------------+\n",
      "|   */*|user1.comcast.com|ApacheBench/2.3|purchase_sword|          new|2020-12-09 09:58:...|\n",
      "|   */*|user1.comcast.com|ApacheBench/2.3|purchase_sword|          new|2020-12-09 09:58:...|\n",
      "|   */*|user1.comcast.com|ApacheBench/2.3|purchase_sword|          new|2020-12-09 09:58:...|\n",
      "|   */*|user1.comcast.com|ApacheBench/2.3|purchase_sword|          new|2020-12-09 09:58:...|\n",
      "|   */*|user1.comcast.com|ApacheBench/2.3|purchase_sword|          new|2020-12-09 09:58:...|\n",
      "|   */*|user1.comcast.com|ApacheBench/2.3|purchase_sword|          new|2020-12-09 09:58:...|\n",
      "|   */*|user1.comcast.com|ApacheBench/2.3|purchase_sword|          new|2020-12-09 09:58:...|\n",
      "|   */*|user1.comcast.com|ApacheBench/2.3|purchase_sword|          new|2020-12-09 09:58:...|\n",
      "|   */*|user1.comcast.com|ApacheBench/2.3|purchase_sword|          new|2020-12-09 09:58:...|\n",
      "|   */*|user1.comcast.com|ApacheBench/2.3|purchase_sword|          new|2020-12-09 09:58:...|\n",
      "+------+-----------------+---------------+--------------+-------------+--------------------+\n",
      "\n"
     ]
    }
   ],
   "source": [
    "purchases_by_host1.show()"
   ]
  },
  {
   "cell_type": "code",
   "execution_count": 27,
   "metadata": {
    "collapsed": true
   },
   "outputs": [],
   "source": [
    "df1 = purchases_by_host1.toPandas()"
   ]
  },
  {
   "cell_type": "code",
   "execution_count": 28,
   "metadata": {},
   "outputs": [
    {
     "data": {
      "text/html": [
       "<div>\n",
       "<style>\n",
       "    .dataframe thead tr:only-child th {\n",
       "        text-align: right;\n",
       "    }\n",
       "\n",
       "    .dataframe thead th {\n",
       "        text-align: left;\n",
       "    }\n",
       "\n",
       "    .dataframe tbody tr th {\n",
       "        vertical-align: top;\n",
       "    }\n",
       "</style>\n",
       "<table border=\"1\" class=\"dataframe\">\n",
       "  <thead>\n",
       "    <tr style=\"text-align: right;\">\n",
       "      <th></th>\n",
       "      <th>Accept</th>\n",
       "      <th>Host</th>\n",
       "      <th>User-Agent</th>\n",
       "      <th>event_type</th>\n",
       "      <th>sword_quality</th>\n",
       "      <th>timestamp</th>\n",
       "    </tr>\n",
       "  </thead>\n",
       "  <tbody>\n",
       "    <tr>\n",
       "      <th>count</th>\n",
       "      <td>10</td>\n",
       "      <td>10</td>\n",
       "      <td>10</td>\n",
       "      <td>10</td>\n",
       "      <td>10</td>\n",
       "      <td>10</td>\n",
       "    </tr>\n",
       "    <tr>\n",
       "      <th>unique</th>\n",
       "      <td>1</td>\n",
       "      <td>1</td>\n",
       "      <td>1</td>\n",
       "      <td>1</td>\n",
       "      <td>1</td>\n",
       "      <td>10</td>\n",
       "    </tr>\n",
       "    <tr>\n",
       "      <th>top</th>\n",
       "      <td>*/*</td>\n",
       "      <td>user1.comcast.com</td>\n",
       "      <td>ApacheBench/2.3</td>\n",
       "      <td>purchase_sword</td>\n",
       "      <td>new</td>\n",
       "      <td>2020-12-09 09:58:49.478</td>\n",
       "    </tr>\n",
       "    <tr>\n",
       "      <th>freq</th>\n",
       "      <td>10</td>\n",
       "      <td>10</td>\n",
       "      <td>10</td>\n",
       "      <td>10</td>\n",
       "      <td>10</td>\n",
       "      <td>1</td>\n",
       "    </tr>\n",
       "  </tbody>\n",
       "</table>\n",
       "</div>"
      ],
      "text/plain": [
       "       Accept               Host       User-Agent      event_type  \\\n",
       "count      10                 10               10              10   \n",
       "unique      1                  1                1               1   \n",
       "top       */*  user1.comcast.com  ApacheBench/2.3  purchase_sword   \n",
       "freq       10                 10               10              10   \n",
       "\n",
       "       sword_quality                timestamp  \n",
       "count             10                       10  \n",
       "unique             1                       10  \n",
       "top              new  2020-12-09 09:58:49.478  \n",
       "freq              10                        1  "
      ]
     },
     "execution_count": 28,
     "metadata": {},
     "output_type": "execute_result"
    }
   ],
   "source": [
    "df1.describe()"
   ]
  },
  {
   "cell_type": "markdown",
   "metadata": {},
   "source": [
    "Analytics question: How many times was a sword bought?"
   ]
  },
  {
   "cell_type": "code",
   "execution_count": 29,
   "metadata": {
    "collapsed": true
   },
   "outputs": [],
   "source": [
    "buys = spark.read.parquet('/tmp/buy_a_sword')"
   ]
  },
  {
   "cell_type": "code",
   "execution_count": 30,
   "metadata": {
    "collapsed": true
   },
   "outputs": [],
   "source": [
    "buys.registerTempTable('buys')"
   ]
  },
  {
   "cell_type": "code",
   "execution_count": 31,
   "metadata": {
    "collapsed": true
   },
   "outputs": [],
   "source": [
    "buys_count = spark.sql(\"select count(*) as swords_bought from buys\")"
   ]
  },
  {
   "cell_type": "code",
   "execution_count": 32,
   "metadata": {},
   "outputs": [
    {
     "data": {
      "text/html": [
       "<div>\n",
       "<style>\n",
       "    .dataframe thead tr:only-child th {\n",
       "        text-align: right;\n",
       "    }\n",
       "\n",
       "    .dataframe thead th {\n",
       "        text-align: left;\n",
       "    }\n",
       "\n",
       "    .dataframe tbody tr th {\n",
       "        vertical-align: top;\n",
       "    }\n",
       "</style>\n",
       "<table border=\"1\" class=\"dataframe\">\n",
       "  <thead>\n",
       "    <tr style=\"text-align: right;\">\n",
       "      <th></th>\n",
       "      <th>swords_bought</th>\n",
       "    </tr>\n",
       "  </thead>\n",
       "  <tbody>\n",
       "    <tr>\n",
       "      <th>0</th>\n",
       "      <td>20</td>\n",
       "    </tr>\n",
       "  </tbody>\n",
       "</table>\n",
       "</div>"
      ],
      "text/plain": [
       "   swords_bought\n",
       "0             20"
      ]
     },
     "execution_count": 32,
     "metadata": {},
     "output_type": "execute_result"
    }
   ],
   "source": [
    "df2 = buys_count.toPandas()\n",
    "df2"
   ]
  },
  {
   "cell_type": "markdown",
   "metadata": {},
   "source": [
    "Analytics question: Which user joined a guild the latest (most recently) and when?"
   ]
  },
  {
   "cell_type": "code",
   "execution_count": 33,
   "metadata": {
    "collapsed": true
   },
   "outputs": [],
   "source": [
    "joins = spark.read.parquet('/tmp/join_guild')"
   ]
  },
  {
   "cell_type": "code",
   "execution_count": 34,
   "metadata": {
    "collapsed": true
   },
   "outputs": [],
   "source": [
    "joins.registerTempTable('joins')"
   ]
  },
  {
   "cell_type": "code",
   "execution_count": 35,
   "metadata": {
    "collapsed": true
   },
   "outputs": [],
   "source": [
    "latest_join = spark.sql(\"select Host as newest_member, timestamp from joins where timestamp=(select max(timestamp) from joins)\")"
   ]
  },
  {
   "cell_type": "code",
   "execution_count": 36,
   "metadata": {},
   "outputs": [
    {
     "data": {
      "text/html": [
       "<div>\n",
       "<style>\n",
       "    .dataframe thead tr:only-child th {\n",
       "        text-align: right;\n",
       "    }\n",
       "\n",
       "    .dataframe thead th {\n",
       "        text-align: left;\n",
       "    }\n",
       "\n",
       "    .dataframe tbody tr th {\n",
       "        vertical-align: top;\n",
       "    }\n",
       "</style>\n",
       "<table border=\"1\" class=\"dataframe\">\n",
       "  <thead>\n",
       "    <tr style=\"text-align: right;\">\n",
       "      <th></th>\n",
       "      <th>newest_member</th>\n",
       "      <th>timestamp</th>\n",
       "    </tr>\n",
       "  </thead>\n",
       "  <tbody>\n",
       "    <tr>\n",
       "      <th>0</th>\n",
       "      <td>user2.att.com</td>\n",
       "      <td>2020-12-09 09:59:32.119</td>\n",
       "    </tr>\n",
       "  </tbody>\n",
       "</table>\n",
       "</div>"
      ],
      "text/plain": [
       "   newest_member                timestamp\n",
       "0  user2.att.com  2020-12-09 09:59:32.119"
      ]
     },
     "execution_count": 36,
     "metadata": {},
     "output_type": "execute_result"
    }
   ],
   "source": [
    "df3 = latest_join.toPandas()\n",
    "df3"
   ]
  },
  {
   "cell_type": "markdown",
   "metadata": {},
   "source": [
    "## Add data streaming into the pipeline"
   ]
  },
  {
   "cell_type": "markdown",
   "metadata": {},
   "source": [
    "Use Apache Bench to generate additional test data:\n",
    "\n",
    "    while true; do docker-compose exec mids ab -n 10 -H \"Host: user1.comcast.com\" http://localhost:5000/buy_a_sword; sleep 5; done\n",
    "    while true; do docker-compose exec mids ab -n 10 -H \"Host: user2.att.com\" http://localhost:5000/join_guild; sleep 5; done\n"
   ]
  },
  {
   "cell_type": "code",
   "execution_count": 37,
   "metadata": {
    "collapsed": true
   },
   "outputs": [],
   "source": [
    "from pyspark.sql.functions import from_json\n",
    "from pyspark.sql.types import StructType, StructField, StringType"
   ]
  },
  {
   "cell_type": "code",
   "execution_count": 38,
   "metadata": {
    "collapsed": true
   },
   "outputs": [],
   "source": [
    "def buy_a_sword_event_schema():\n",
    "    \"\"\"\n",
    "    root\n",
    "    |-- Accept: string (nullable = true)\n",
    "    |-- Host: string (nullable = true)\n",
    "    |-- User-Agent: string (nullable = true)\n",
    "    |-- event_type: string (nullable = true)\n",
    "    |-- timestamp: string (nullable = true)\n",
    "    \"\"\"\n",
    "    return StructType([\n",
    "        StructField(\"Accept\", StringType(), True),\n",
    "        StructField(\"Host\", StringType(), True),\n",
    "        StructField(\"User-Agent\", StringType(), True),\n",
    "        StructField(\"event_type\", StringType(), True),\n",
    "        StructField(\"sword_type\", StringType(), True),\n",
    "    ])"
   ]
  },
  {
   "cell_type": "code",
   "execution_count": 39,
   "metadata": {
    "collapsed": true
   },
   "outputs": [],
   "source": [
    "def join_guild_event_schema():\n",
    "    \"\"\"\n",
    "    root\n",
    "    |-- Accept: string (nullable = true)\n",
    "    |-- Host: string (nullable = true)\n",
    "    |-- User-Agent: string (nullable = true)\n",
    "    |-- event_type: string (nullable = true)\n",
    "    |-- timestamp: string (nullable = true)\n",
    "    \"\"\"\n",
    "    return StructType([\n",
    "        StructField(\"Accept\", StringType(), True),\n",
    "        StructField(\"Host\", StringType(), True),\n",
    "        StructField(\"User-Agent\", StringType(), True),\n",
    "        StructField(\"event_type\", StringType(), True),\n",
    "        StructField(\"guild_type\", StringType(), True),\n",
    "    ])"
   ]
  },
  {
   "cell_type": "code",
   "execution_count": 40,
   "metadata": {
    "collapsed": true
   },
   "outputs": [],
   "source": [
    "raw_events_stream = spark \\\n",
    "    .readStream \\\n",
    "    .format(\"kafka\") \\\n",
    "    .option(\"kafka.bootstrap.servers\", \"kafka:29092\") \\\n",
    "    .option(\"subscribe\", \"events\") \\\n",
    "    .load()"
   ]
  },
  {
   "cell_type": "code",
   "execution_count": 41,
   "metadata": {
    "collapsed": true
   },
   "outputs": [],
   "source": [
    "# filtering for buy a sword event\n",
    "buy_swords = raw_events_stream \\\n",
    "    .filter(is_buy(raw_events_stream.value.cast('string'))) \\\n",
    "    .select(raw_events_stream.value.cast('string').alias('raw_event'),\n",
    "            raw_events_stream.timestamp.cast('string'),\n",
    "            from_json(raw_events_stream.value.cast('string'),\n",
    "                      buy_a_sword_event_schema()).alias('json')) \\\n",
    "    .select('raw_event', 'timestamp', 'json.*')"
   ]
  },
  {
   "cell_type": "code",
   "execution_count": 50,
   "metadata": {
    "collapsed": true
   },
   "outputs": [],
   "source": [
    "# writing event stream to HDFS\n",
    "sink1 = buy_swords \\\n",
    "    .writeStream \\\n",
    "    .format(\"parquet\") \\\n",
    "    .option(\"checkpointLocation\", \"/tmp/checkpoints_for_buy_a_sword\") \\\n",
    "    .option(\"path\", \"/tmp/buy_a_sword\") \\\n",
    "    .trigger(processingTime=\"10 seconds\") \\\n",
    "    .start()"
   ]
  },
  {
   "cell_type": "code",
   "execution_count": 43,
   "metadata": {
    "collapsed": true
   },
   "outputs": [],
   "source": [
    "# filtering for join guild event\n",
    "join_guilds = raw_events_stream \\\n",
    "    .filter(is_join(raw_events_stream.value.cast('string'))) \\\n",
    "    .select(raw_events_stream.value.cast('string').alias('raw_event'),\n",
    "            raw_events_stream.timestamp.cast('string'),\n",
    "            from_json(raw_events_stream.value.cast('string'),\n",
    "                      join_guild_event_schema()).alias('json')) \\\n",
    "    .select('raw_event', 'timestamp', 'json.*')"
   ]
  },
  {
   "cell_type": "code",
   "execution_count": 51,
   "metadata": {
    "collapsed": true
   },
   "outputs": [],
   "source": [
    "# writing event stream to HDFS\n",
    "sink2 = join_guilds \\\n",
    "    .writeStream \\\n",
    "    .format(\"parquet\") \\\n",
    "    .option(\"checkpointLocation\", \"/tmp/checkpoints_for_join_guild\") \\\n",
    "    .option(\"path\", \"/tmp/join_guild\") \\\n",
    "    .trigger(processingTime=\"10 seconds\") \\\n",
    "    .start()"
   ]
  },
  {
   "cell_type": "code",
   "execution_count": 52,
   "metadata": {},
   "outputs": [],
   "source": [
    "# stop the stream\n",
    "sink1.stop()\n",
    "sink2.stop()"
   ]
  },
  {
   "cell_type": "markdown",
   "metadata": {},
   "source": [
    "## Using Hive to create an external table for schema on read"
   ]
  },
  {
   "cell_type": "markdown",
   "metadata": {},
   "source": [
    "    docker-compose exec cloudera hive\n",
    "    \n",
    "        create external table if not exists default.buy_a_sword (Accept string, Host string, User_Agent string, event_type string, sword_type string, timestamp string) stored as parquet location '/tmp/buy_a_sword'  tblproperties (\"parquet.compress\"=\"SNAPPY\");\n",
    "    \n",
    "        create external table if not exists default.join_guild (Accept string, Host string, User_Agent string, event_type string, guild_type string, timestamp string) stored as parquet location '/tmp/join_guild'  tblproperties (\"parquet.compress\"=\"SNAPPY\");"
   ]
  },
  {
   "cell_type": "markdown",
   "metadata": {},
   "source": [
    "## Using Presto to query against the external table"
   ]
  },
  {
   "cell_type": "markdown",
   "metadata": {},
   "source": [
    "    docker-compose exec presto presto --server presto:8080 --catalog hive --schema default\n",
    "    \n",
    "        show tables;\n",
    "```\n",
    "                        Table    \n",
    "                    -------------\n",
    "                     buy_a_sword \n",
    "                     join_guild  \n",
    "                    (2 rows)\n",
    "```\n",
    "        describe buy_a_sword;\n",
    "```\n",
    "                       Column   |  Type   | Comment \n",
    "                    ------------+---------+---------\n",
    "                     accept     | varchar |         \n",
    "                     host       | varchar |         \n",
    "                     user_agent | varchar |         \n",
    "                     event_type | varchar |         \n",
    "                     sword_type | varchar |         \n",
    "                     timestamp  | varchar |         \n",
    "                    (6 rows)\n",
    "```\n",
    "        describe join_guild;\n",
    "```\n",
    "                       Column   |  Type   | Comment \n",
    "                    ------------+---------+---------\n",
    "                     accept     | varchar |         \n",
    "                     host       | varchar |         \n",
    "                     user_agent | varchar |         \n",
    "                     event_type | varchar |         \n",
    "                     guild_type | varchar |         \n",
    "                     timestamp  | varchar |         \n",
    "                    (6 rows)\n",
    "```"
   ]
  },
  {
   "cell_type": "markdown",
   "metadata": {},
   "source": [
    "Analytics question: How many total events occured for buy_a_sword and join_guild?\n",
    "\n",
    "    select count(*) from buy_a_sword;\n",
    "```\n",
    "                     num_buys \n",
    "                    ----------\n",
    "                         1140 \n",
    "                    (1 row)\n",
    "```\n",
    "    select count(*) from join_guild;\n",
    "```\n",
    "                    num_joins \n",
    "                    -----------\n",
    "                          1060 \n",
    "                    (1 row)\n",
    "```"
   ]
  },
  {
   "cell_type": "markdown",
   "metadata": {},
   "source": [
    "## Shutting down the cluster\n",
    "\n",
    "    docker-compose down\n",
    "    docker-compose ps\n",
    "    docker ps -a\n"
   ]
  },
  {
   "cell_type": "code",
   "execution_count": null,
   "metadata": {
    "collapsed": true
   },
   "outputs": [],
   "source": []
  }
 ],
 "metadata": {
  "kernelspec": {
   "display_name": "Python 3",
   "language": "python",
   "name": "python3"
  },
  "language_info": {
   "codemirror_mode": {
    "name": "ipython",
    "version": 3
   },
   "file_extension": ".py",
   "mimetype": "text/x-python",
   "name": "python",
   "nbconvert_exporter": "python",
   "pygments_lexer": "ipython3",
   "version": "3.8.5"
  }
 },
 "nbformat": 4,
 "nbformat_minor": 2
}
