{
 "cells": [
  {
   "cell_type": "code",
   "execution_count": 56,
   "metadata": {},
   "outputs": [],
   "source": [
    "import pandas as pd\n",
    "import matplotlib.pyplot as plt"
   ]
  },
  {
   "cell_type": "markdown",
   "metadata": {},
   "source": [
    "# Project questions:\n",
    "* What are the 5 most popular trips that you would call \"commuter trips\"?\n",
    "* What are your recommendations for offers (justify based on you findings)?"
   ]
  },
  {
   "cell_type": "markdown",
   "metadata": {},
   "source": [
    "# Commuter Trips\n",
    "\n",
    "First we have to define what we consider to be \"commuter trips\" and clean up the data accordingly. These are the assumptions I made for characteristics of commuter trips in order to separate them from casual trips:\n",
    "- Day of week: Assuming a work structure of a typical 9-5 job, commute trips would be made on weekdays as opposed to weekends.\n",
    "- Time of day: Commuters will be making their trips in the mornings to get to work and again in the afternoon when leaving work. For the thresholds, I used between 6-8am for morning bike trip start times and 5-7pm for afternoon bike trip start times.\n",
    "- Duration: I limited commuter trips to trips lasting less than 1 hour. Considering there are alternate forms of transportation, it is unlikely that a commute by bike would be more than 1 hour long."
   ]
  },
  {
   "cell_type": "markdown",
   "metadata": {},
   "source": [
    "```sql\n",
    "SELECT trip_id, start_station_name, end_station_name, subscriber_type,  \n",
    "FROM `liquid-receiver-288223.bike_trip_data.dow_time_trips` \n",
    "WHERE duration_sec < 3600\n",
    "  AND dow_weekday=\"Weekday\"\n",
    "  AND (start_hour_str=\"Morning\" OR start_hour_str=\"Afternoon\")\n",
    "```"
   ]
  },
  {
   "cell_type": "code",
   "execution_count": 34,
   "metadata": {},
   "outputs": [
    {
     "name": "stdout",
     "output_type": "stream",
     "text": [
      "Waiting on bqjob_r43e07d0e26161a89_00000174dd56c642_1 ... (6s) Current status: DONE   \n"
     ]
    }
   ],
   "source": [
    "! bq query --use_legacy_sql=FALSE --format=csv 'SELECT trip_id, start_station_name, end_station_name, start_hour_str, start_station_id, end_station_id, subscriber_type,  FROM `liquid-receiver-288223.bike_trip_data.dow_time_trips` WHERE duration_sec < 3600 AND dow_weekday=\"Weekday\" AND (start_hour_str=\"Morning\" OR start_hour_str=\"Afternoon\")' > commuter_trips.csv"
   ]
  },
  {
   "cell_type": "code",
   "execution_count": 35,
   "metadata": {},
   "outputs": [],
   "source": [
    "commuter_trips = pd.read_csv('commuter_trips.csv')"
   ]
  },
  {
   "cell_type": "code",
   "execution_count": 36,
   "metadata": {},
   "outputs": [
    {
     "name": "stdout",
     "output_type": "stream",
     "text": [
      "100\n"
     ]
    },
    {
     "data": {
      "text/html": [
       "<div>\n",
       "<style scoped>\n",
       "    .dataframe tbody tr th:only-of-type {\n",
       "        vertical-align: middle;\n",
       "    }\n",
       "\n",
       "    .dataframe tbody tr th {\n",
       "        vertical-align: top;\n",
       "    }\n",
       "\n",
       "    .dataframe thead th {\n",
       "        text-align: right;\n",
       "    }\n",
       "</style>\n",
       "<table border=\"1\" class=\"dataframe\">\n",
       "  <thead>\n",
       "    <tr style=\"text-align: right;\">\n",
       "      <th></th>\n",
       "      <th>trip_id</th>\n",
       "      <th>start_station_name</th>\n",
       "      <th>end_station_name</th>\n",
       "      <th>start_hour_str</th>\n",
       "      <th>start_station_id</th>\n",
       "      <th>end_station_id</th>\n",
       "      <th>subscriber_type</th>\n",
       "    </tr>\n",
       "  </thead>\n",
       "  <tbody>\n",
       "    <tr>\n",
       "      <th>0</th>\n",
       "      <td>4755</td>\n",
       "      <td>Embarcadero at Sansome</td>\n",
       "      <td>Post at Kearney</td>\n",
       "      <td>Afternoon</td>\n",
       "      <td>60</td>\n",
       "      <td>47</td>\n",
       "      <td>Customer</td>\n",
       "    </tr>\n",
       "    <tr>\n",
       "      <th>1</th>\n",
       "      <td>4757</td>\n",
       "      <td>Beale at Market</td>\n",
       "      <td>Embarcadero at Sansome</td>\n",
       "      <td>Afternoon</td>\n",
       "      <td>56</td>\n",
       "      <td>60</td>\n",
       "      <td>Customer</td>\n",
       "    </tr>\n",
       "    <tr>\n",
       "      <th>2</th>\n",
       "      <td>4756</td>\n",
       "      <td>Spear at Folsom</td>\n",
       "      <td>San Francisco Caltrain (Townsend at 4th)</td>\n",
       "      <td>Afternoon</td>\n",
       "      <td>49</td>\n",
       "      <td>70</td>\n",
       "      <td>Subscriber</td>\n",
       "    </tr>\n",
       "    <tr>\n",
       "      <th>3</th>\n",
       "      <td>4761</td>\n",
       "      <td>Howard at 2nd</td>\n",
       "      <td>Powell Street BART</td>\n",
       "      <td>Afternoon</td>\n",
       "      <td>63</td>\n",
       "      <td>39</td>\n",
       "      <td>Subscriber</td>\n",
       "    </tr>\n",
       "    <tr>\n",
       "      <th>4</th>\n",
       "      <td>4759</td>\n",
       "      <td>Market at Sansome</td>\n",
       "      <td>South Van Ness at Market</td>\n",
       "      <td>Afternoon</td>\n",
       "      <td>77</td>\n",
       "      <td>66</td>\n",
       "      <td>Customer</td>\n",
       "    </tr>\n",
       "  </tbody>\n",
       "</table>\n",
       "</div>"
      ],
      "text/plain": [
       "   trip_id      start_station_name                          end_station_name  \\\n",
       "0     4755  Embarcadero at Sansome                           Post at Kearney   \n",
       "1     4757         Beale at Market                    Embarcadero at Sansome   \n",
       "2     4756         Spear at Folsom  San Francisco Caltrain (Townsend at 4th)   \n",
       "3     4761           Howard at 2nd                        Powell Street BART   \n",
       "4     4759       Market at Sansome                  South Van Ness at Market   \n",
       "\n",
       "  start_hour_str  start_station_id  end_station_id subscriber_type  \n",
       "0      Afternoon                60              47        Customer  \n",
       "1      Afternoon                56              60        Customer  \n",
       "2      Afternoon                49              70      Subscriber  \n",
       "3      Afternoon                63              39      Subscriber  \n",
       "4      Afternoon                77              66        Customer  "
      ]
     },
     "execution_count": 36,
     "metadata": {},
     "output_type": "execute_result"
    }
   ],
   "source": [
    "print(commuter_trips.shape[0])\n",
    "commuter_trips.head(5)"
   ]
  },
  {
   "cell_type": "markdown",
   "metadata": {},
   "source": [
    "Now, that we have isolated our commuter trips, we can look at which trips are the most popular, by counting the number of trips between the same start station and end station. "
   ]
  },
  {
   "cell_type": "markdown",
   "metadata": {},
   "source": [
    "```sql\n",
    "SELECT start_station_name, end_station_name, count(*) AS num_trips FROM `liquid-receiver-288223.bike_trip_data.commuter_trips` \n",
    "GROUP BY start_station_name, end_station_name \n",
    "ORDER BY num_trips DESC\n",
    "```"
   ]
  },
  {
   "cell_type": "code",
   "execution_count": 26,
   "metadata": {},
   "outputs": [
    {
     "name": "stdout",
     "output_type": "stream",
     "text": [
      "Waiting on bqjob_r4a079290c42bfd7a_00000174dd391452_1 ... (4s) Current status: DONE   \n"
     ]
    }
   ],
   "source": [
    "! bq query --use_legacy_sql=FALSE --format=csv 'SELECT start_station_name, end_station_name, count(*) AS num_trips FROM `liquid-receiver-288223.bike_trip_data.commuter_trips` GROUP BY start_station_name, end_station_name ORDER BY num_trips DESC' > most_popular_commutes.csv"
   ]
  },
  {
   "cell_type": "code",
   "execution_count": 27,
   "metadata": {},
   "outputs": [],
   "source": [
    "most_popular_commutes = pd.read_csv('most_popular_commutes.csv')"
   ]
  },
  {
   "cell_type": "code",
   "execution_count": 82,
   "metadata": {},
   "outputs": [
    {
     "data": {
      "text/html": [
       "<div>\n",
       "<style scoped>\n",
       "    .dataframe tbody tr th:only-of-type {\n",
       "        vertical-align: middle;\n",
       "    }\n",
       "\n",
       "    .dataframe tbody tr th {\n",
       "        vertical-align: top;\n",
       "    }\n",
       "\n",
       "    .dataframe thead th {\n",
       "        text-align: right;\n",
       "    }\n",
       "</style>\n",
       "<table border=\"1\" class=\"dataframe\">\n",
       "  <thead>\n",
       "    <tr style=\"text-align: right;\">\n",
       "      <th></th>\n",
       "      <th>start_station_name</th>\n",
       "      <th>end_station_name</th>\n",
       "      <th>num_trips</th>\n",
       "    </tr>\n",
       "  </thead>\n",
       "  <tbody>\n",
       "    <tr>\n",
       "      <th>0</th>\n",
       "      <td>Harry Bridges Plaza (Ferry Building)</td>\n",
       "      <td>2nd at Townsend</td>\n",
       "      <td>4576</td>\n",
       "    </tr>\n",
       "    <tr>\n",
       "      <th>1</th>\n",
       "      <td>San Francisco Caltrain (Townsend at 4th)</td>\n",
       "      <td>Harry Bridges Plaza (Ferry Building)</td>\n",
       "      <td>4199</td>\n",
       "    </tr>\n",
       "    <tr>\n",
       "      <th>2</th>\n",
       "      <td>San Francisco Caltrain 2 (330 Townsend)</td>\n",
       "      <td>Townsend at 7th</td>\n",
       "      <td>3910</td>\n",
       "    </tr>\n",
       "    <tr>\n",
       "      <th>3</th>\n",
       "      <td>Townsend at 7th</td>\n",
       "      <td>San Francisco Caltrain 2 (330 Townsend)</td>\n",
       "      <td>3769</td>\n",
       "    </tr>\n",
       "    <tr>\n",
       "      <th>4</th>\n",
       "      <td>Embarcadero at Sansome</td>\n",
       "      <td>Steuart at Market</td>\n",
       "      <td>3754</td>\n",
       "    </tr>\n",
       "    <tr>\n",
       "      <th>5</th>\n",
       "      <td>San Francisco Caltrain (Townsend at 4th)</td>\n",
       "      <td>Temporary Transbay Terminal (Howard at Beale)</td>\n",
       "      <td>3442</td>\n",
       "    </tr>\n",
       "    <tr>\n",
       "      <th>6</th>\n",
       "      <td>Harry Bridges Plaza (Ferry Building)</td>\n",
       "      <td>Embarcadero at Sansome</td>\n",
       "      <td>3402</td>\n",
       "    </tr>\n",
       "    <tr>\n",
       "      <th>7</th>\n",
       "      <td>Market at 10th</td>\n",
       "      <td>San Francisco Caltrain 2 (330 Townsend)</td>\n",
       "      <td>3288</td>\n",
       "    </tr>\n",
       "    <tr>\n",
       "      <th>8</th>\n",
       "      <td>2nd at South Park</td>\n",
       "      <td>Market at Sansome</td>\n",
       "      <td>3284</td>\n",
       "    </tr>\n",
       "    <tr>\n",
       "      <th>9</th>\n",
       "      <td>San Francisco Caltrain (Townsend at 4th)</td>\n",
       "      <td>Embarcadero at Folsom</td>\n",
       "      <td>3263</td>\n",
       "    </tr>\n",
       "  </tbody>\n",
       "</table>\n",
       "</div>"
      ],
      "text/plain": [
       "                         start_station_name  \\\n",
       "0      Harry Bridges Plaza (Ferry Building)   \n",
       "1  San Francisco Caltrain (Townsend at 4th)   \n",
       "2   San Francisco Caltrain 2 (330 Townsend)   \n",
       "3                           Townsend at 7th   \n",
       "4                    Embarcadero at Sansome   \n",
       "5  San Francisco Caltrain (Townsend at 4th)   \n",
       "6      Harry Bridges Plaza (Ferry Building)   \n",
       "7                            Market at 10th   \n",
       "8                         2nd at South Park   \n",
       "9  San Francisco Caltrain (Townsend at 4th)   \n",
       "\n",
       "                                end_station_name  num_trips  \n",
       "0                                2nd at Townsend       4576  \n",
       "1           Harry Bridges Plaza (Ferry Building)       4199  \n",
       "2                                Townsend at 7th       3910  \n",
       "3        San Francisco Caltrain 2 (330 Townsend)       3769  \n",
       "4                              Steuart at Market       3754  \n",
       "5  Temporary Transbay Terminal (Howard at Beale)       3442  \n",
       "6                         Embarcadero at Sansome       3402  \n",
       "7        San Francisco Caltrain 2 (330 Townsend)       3288  \n",
       "8                              Market at Sansome       3284  \n",
       "9                          Embarcadero at Folsom       3263  "
      ]
     },
     "execution_count": 82,
     "metadata": {},
     "output_type": "execute_result"
    }
   ],
   "source": [
    "most_popular_commutes.head(10)"
   ]
  },
  {
   "cell_type": "markdown",
   "metadata": {},
   "source": [
    "Using the total number of times the trip was made to gauge popularity, we can see that the top 5 most popular trips (in order of popularity) were from:\n",
    "- Harry Bridges Plaza (Ferry Building) ---> 2nd at Townsend\n",
    "- San Francisco Caltrain (Townsend at 4th) --> Harry Bridges Plaza (Ferry Building)\n",
    "- San Francisco Caltrain 2 (330 Townsend) ---> Townsend at 7th\n",
    "- Townsend at 7th ---> San Francisco Caltrain 2 (330 Townsend)\n",
    "- Embarcadero at Sansome ---> Steuart at Market"
   ]
  },
  {
   "cell_type": "markdown",
   "metadata": {},
   "source": [
    "# Recommendations"
   ]
  },
  {
   "cell_type": "markdown",
   "metadata": {},
   "source": [
    "## Availability of Bikes\n",
    "In order to ensure that the commuters are able to use bike sharing for their commutes, there has to be an availability of bikes where they begin their trip.\n",
    "I looked at the bike station data for the stations of the top 5 commutes. I queried for when there was less than 3 available bikes at the station during the specified commute hours above (morning and afternoon)."
   ]
  },
  {
   "cell_type": "markdown",
   "metadata": {},
   "source": [
    "```sql\n",
    "SELECT station_id, name, low_bikes.low_bikes FROM liquid-receiver-288223.bike_trip_data.low_bikes\n",
    "LEFT JOIN liquid-receiver-288223.bike_trip_data.bikeshare_stations USING (station_id)\n",
    "WHERE name IN \n",
    "  (SELECT start_station_name \n",
    "   FROM liquid-receiver-288223.bike_trip_data.most_popular_commuter_trips LIMIT 5)\n",
    "ORDER BY low_bikes DESC\n",
    "```"
   ]
  },
  {
   "cell_type": "code",
   "execution_count": 73,
   "metadata": {},
   "outputs": [
    {
     "name": "stdout",
     "output_type": "stream",
     "text": [
      "Waiting on bqjob_r2024a16b3218e00_00000174ddc34a66_1 ... (0s) Current status: DONE   \n"
     ]
    }
   ],
   "source": [
    "! bq query --use_legacy_sql=FALSE --format=csv 'SELECT station_id, name, low_bikes.low_bikes FROM liquid-receiver-288223.bike_trip_data.low_bikes LEFT JOIN liquid-receiver-288223.bike_trip_data.bikeshare_stations USING (station_id) WHERE name IN (SELECT start_station_name FROM liquid-receiver-288223.bike_trip_data.most_popular_commuter_trips LIMIT 5) ORDER BY low_bikes DESC' > low_bikes.csv\n"
   ]
  },
  {
   "cell_type": "code",
   "execution_count": 74,
   "metadata": {},
   "outputs": [],
   "source": [
    "low_bikes = pd.read_csv('low_bikes.csv')"
   ]
  },
  {
   "cell_type": "code",
   "execution_count": 75,
   "metadata": {},
   "outputs": [
    {
     "data": {
      "text/html": [
       "<div>\n",
       "<style scoped>\n",
       "    .dataframe tbody tr th:only-of-type {\n",
       "        vertical-align: middle;\n",
       "    }\n",
       "\n",
       "    .dataframe tbody tr th {\n",
       "        vertical-align: top;\n",
       "    }\n",
       "\n",
       "    .dataframe thead th {\n",
       "        text-align: right;\n",
       "    }\n",
       "</style>\n",
       "<table border=\"1\" class=\"dataframe\">\n",
       "  <thead>\n",
       "    <tr style=\"text-align: right;\">\n",
       "      <th></th>\n",
       "      <th>station_id</th>\n",
       "      <th>name</th>\n",
       "      <th>low_bikes</th>\n",
       "      <th>time_empty_%</th>\n",
       "    </tr>\n",
       "  </thead>\n",
       "  <tbody>\n",
       "    <tr>\n",
       "      <th>0</th>\n",
       "      <td>60</td>\n",
       "      <td>Embarcadero at Sansome</td>\n",
       "      <td>60802</td>\n",
       "      <td>21.829527</td>\n",
       "    </tr>\n",
       "    <tr>\n",
       "      <th>1</th>\n",
       "      <td>65</td>\n",
       "      <td>Townsend at 7th</td>\n",
       "      <td>44479</td>\n",
       "      <td>15.969138</td>\n",
       "    </tr>\n",
       "    <tr>\n",
       "      <th>2</th>\n",
       "      <td>70</td>\n",
       "      <td>San Francisco Caltrain (Townsend at 4th)</td>\n",
       "      <td>18494</td>\n",
       "      <td>6.639835</td>\n",
       "    </tr>\n",
       "    <tr>\n",
       "      <th>3</th>\n",
       "      <td>69</td>\n",
       "      <td>San Francisco Caltrain 2 (330 Townsend)</td>\n",
       "      <td>10888</td>\n",
       "      <td>3.909080</td>\n",
       "    </tr>\n",
       "    <tr>\n",
       "      <th>4</th>\n",
       "      <td>50</td>\n",
       "      <td>Harry Bridges Plaza (Ferry Building)</td>\n",
       "      <td>5814</td>\n",
       "      <td>2.087380</td>\n",
       "    </tr>\n",
       "  </tbody>\n",
       "</table>\n",
       "</div>"
      ],
      "text/plain": [
       "   station_id                                      name  low_bikes  \\\n",
       "0          60                    Embarcadero at Sansome      60802   \n",
       "1          65                           Townsend at 7th      44479   \n",
       "2          70  San Francisco Caltrain (Townsend at 4th)      18494   \n",
       "3          69   San Francisco Caltrain 2 (330 Townsend)      10888   \n",
       "4          50      Harry Bridges Plaza (Ferry Building)       5814   \n",
       "\n",
       "   time_empty_%  \n",
       "0     21.829527  \n",
       "1     15.969138  \n",
       "2      6.639835  \n",
       "3      3.909080  \n",
       "4      2.087380  "
      ]
     },
     "execution_count": 75,
     "metadata": {},
     "output_type": "execute_result"
    }
   ],
   "source": [
    "low_bikes['time_empty_%'] = low_bikes['low_bikes'] / 278531 * 100\n",
    "low_bikes"
   ]
  },
  {
   "cell_type": "code",
   "execution_count": 77,
   "metadata": {},
   "outputs": [
    {
     "data": {
      "text/plain": [
       "<AxesSubplot:xlabel='name'>"
      ]
     },
     "execution_count": 77,
     "metadata": {},
     "output_type": "execute_result"
    },
    {
     "data": {
      "image/png": "[encoded data removed]",
      "text/plain": [
       "<Figure size 432x288 with 1 Axes>"
      ]
     },
     "metadata": {
      "needs_background": "light"
     },
     "output_type": "display_data"
    }
   ],
   "source": [
    "low_bikes.plot.bar(x='name', y='time_empty_%')"
   ]
  },
  {
   "cell_type": "markdown",
   "metadata": {},
   "source": [
    "From the table above, we can see that for the top 5 stations that people start their commutes at, there is a significant percentage of the time (i.e. ~22%, ~16% with very few bikes available, during the high demand commute times. This is an issue for commuters who rely on the bikes for travel and a loss of a potential customer for Lyft.\n",
    "I would recommend 2 offers to help mitigate this problem:\n",
    "- 1) Offer reduced rates on rides where users dock their bikes at stations with low bike availability. This incentivizes users to help reduce the shortage of bikes at popular stations.\n",
    "- 2) Offer a priority package for users with the option to reserve bikes ahead of time. After paying a premium, users would be able to reserve a bike that they know they will need to complete their commute."
   ]
  },
  {
   "cell_type": "markdown",
   "metadata": {},
   "source": [
    "## Seasonal Passes\n",
    "I organized the bike share data into seasonal use, based on which month the trip was conducted in. "
   ]
  },
  {
   "cell_type": "markdown",
   "metadata": {},
   "source": [
    "```sql\n",
    "SELECT month_str, count(trip_id) AS num_trips\n",
    "FROM `liquid-receiver-288223.bike_trip_data.dow_time_trips`\n",
    "GROUP BY month_str\n",
    "ORDER BY num_trips DESC\n",
    "```"
   ]
  },
  {
   "cell_type": "code",
   "execution_count": 45,
   "metadata": {},
   "outputs": [
    {
     "name": "stdout",
     "output_type": "stream",
     "text": [
      "Waiting on bqjob_r1628fb73720d83d_00000174dd78ffbf_1 ... (2s) Current status: DONE   \n"
     ]
    }
   ],
   "source": [
    "! bq query --use_legacy_sql=FALSE --format=csv 'SELECT month_str AS season, count(trip_id) AS num_trips FROM `liquid-receiver-288223.bike_trip_data.dow_time_trips` GROUP BY month_str ORDER BY num_trips DESC' > seasonal_trips.csv"
   ]
  },
  {
   "cell_type": "code",
   "execution_count": 46,
   "metadata": {},
   "outputs": [],
   "source": [
    "seasonal_trips = pd.read_csv('seasonal_trips.csv')"
   ]
  },
  {
   "cell_type": "code",
   "execution_count": 47,
   "metadata": {},
   "outputs": [
    {
     "data": {
      "text/html": [
       "<div>\n",
       "<style scoped>\n",
       "    .dataframe tbody tr th:only-of-type {\n",
       "        vertical-align: middle;\n",
       "    }\n",
       "\n",
       "    .dataframe tbody tr th {\n",
       "        vertical-align: top;\n",
       "    }\n",
       "\n",
       "    .dataframe thead th {\n",
       "        text-align: right;\n",
       "    }\n",
       "</style>\n",
       "<table border=\"1\" class=\"dataframe\">\n",
       "  <thead>\n",
       "    <tr style=\"text-align: right;\">\n",
       "      <th></th>\n",
       "      <th>season</th>\n",
       "      <th>num_trips</th>\n",
       "    </tr>\n",
       "  </thead>\n",
       "  <tbody>\n",
       "    <tr>\n",
       "      <th>0</th>\n",
       "      <td>Summer</td>\n",
       "      <td>276787</td>\n",
       "    </tr>\n",
       "    <tr>\n",
       "      <th>1</th>\n",
       "      <td>Fall</td>\n",
       "      <td>254790</td>\n",
       "    </tr>\n",
       "    <tr>\n",
       "      <th>2</th>\n",
       "      <td>Spring</td>\n",
       "      <td>252337</td>\n",
       "    </tr>\n",
       "    <tr>\n",
       "      <th>3</th>\n",
       "      <td>Winter</td>\n",
       "      <td>199734</td>\n",
       "    </tr>\n",
       "  </tbody>\n",
       "</table>\n",
       "</div>"
      ],
      "text/plain": [
       "   season  num_trips\n",
       "0  Summer     276787\n",
       "1    Fall     254790\n",
       "2  Spring     252337\n",
       "3  Winter     199734"
      ]
     },
     "execution_count": 47,
     "metadata": {},
     "output_type": "execute_result"
    }
   ],
   "source": [
    "seasonal_trips"
   ]
  },
  {
   "cell_type": "code",
   "execution_count": 147,
   "metadata": {},
   "outputs": [
    {
     "name": "stderr",
     "output_type": "stream",
     "text": [
      "/opt/conda/lib/python3.7/site-packages/pandas/plotting/_matplotlib/core.py:1235: UserWarning: FixedFormatter should only be used together with FixedLocator\n",
      "  ax.set_xticklabels(xticklabels)\n"
     ]
    },
    {
     "data": {
      "text/plain": [
       "Text(0, 0.5, 'number of trips')"
      ]
     },
     "execution_count": 147,
     "metadata": {},
     "output_type": "execute_result"
    },
    {
     "data": {
      "image/png": "[encoded data removed]",
      "text/plain": [
       "<Figure size 432x288 with 1 Axes>"
      ]
     },
     "metadata": {
      "needs_background": "light"
     },
     "output_type": "display_data"
    }
   ],
   "source": [
    "seasonal_trips.plot(x='season', y='num_trips')\n",
    "plt.title('Number of Trips per Season')\n",
    "plt.ylabel('number of trips')"
   ]
  },
  {
   "cell_type": "markdown",
   "metadata": {},
   "source": [
    "We can see from the plot above that the most popular time to use bike sharing is in the summer. As the year progresses, the number of bike share trips declines in the fall and spring, and then drastically drops in the winter. I would recommend offering a seasonal pass option where user are able to get discounted rates for a season of their choosing. This would promote increased usage in the months where either the weather conditions are preferrable or their schedule is more permissive for bike rides."
   ]
  },
  {
   "cell_type": "markdown",
   "metadata": {},
   "source": [
    "## Passes for Special Days/Events\n",
    "First I organized the bike trip data by volume of trips per day. Trips were limited to a duration of 1 day."
   ]
  },
  {
   "cell_type": "markdown",
   "metadata": {},
   "source": [
    "```sql\n",
    "SELECT DATE(start_date) AS day, count(*) AS num_trips\n",
    "FROM `liquid-receiver-288223.bike_trip_data.bikeshare_trips` \n",
    "WHERE duration_sec < 86400\n",
    "GROUP BY day\n",
    "ORDER BY num_trips DESC\n",
    "```"
   ]
  },
  {
   "cell_type": "code",
   "execution_count": 78,
   "metadata": {},
   "outputs": [
    {
     "name": "stdout",
     "output_type": "stream",
     "text": [
      "Waiting on bqjob_r6b0360855c491cd0_00000174ddcd5b7d_1 ... (2s) Current status: DONE   \n"
     ]
    }
   ],
   "source": [
    "! bq query --use_legacy_sql=FALSE --format=csv 'SELECT DATE(start_date) AS day, count(*) AS num_trips FROM `liquid-receiver-288223.bike_trip_data.bikeshare_trips` WHERE duration_sec < 86400 GROUP BY day ORDER BY num_trips DESC' > trips_by_day.csv"
   ]
  },
  {
   "cell_type": "code",
   "execution_count": 79,
   "metadata": {},
   "outputs": [],
   "source": [
    "trips_by_day = pd.read_csv('trips_by_day.csv')"
   ]
  },
  {
   "cell_type": "code",
   "execution_count": 81,
   "metadata": {},
   "outputs": [
    {
     "data": {
      "text/html": [
       "<div>\n",
       "<style scoped>\n",
       "    .dataframe tbody tr th:only-of-type {\n",
       "        vertical-align: middle;\n",
       "    }\n",
       "\n",
       "    .dataframe tbody tr th {\n",
       "        vertical-align: top;\n",
       "    }\n",
       "\n",
       "    .dataframe thead th {\n",
       "        text-align: right;\n",
       "    }\n",
       "</style>\n",
       "<table border=\"1\" class=\"dataframe\">\n",
       "  <thead>\n",
       "    <tr style=\"text-align: right;\">\n",
       "      <th></th>\n",
       "      <th>day</th>\n",
       "      <th>num_trips</th>\n",
       "    </tr>\n",
       "  </thead>\n",
       "  <tbody>\n",
       "    <tr>\n",
       "      <th>0</th>\n",
       "      <td>2014-09-15</td>\n",
       "      <td>1515</td>\n",
       "    </tr>\n",
       "    <tr>\n",
       "      <th>1</th>\n",
       "      <td>2014-08-26</td>\n",
       "      <td>1513</td>\n",
       "    </tr>\n",
       "    <tr>\n",
       "      <th>2</th>\n",
       "      <td>2016-05-12</td>\n",
       "      <td>1497</td>\n",
       "    </tr>\n",
       "    <tr>\n",
       "      <th>3</th>\n",
       "      <td>2014-10-14</td>\n",
       "      <td>1496</td>\n",
       "    </tr>\n",
       "    <tr>\n",
       "      <th>4</th>\n",
       "      <td>2014-10-29</td>\n",
       "      <td>1496</td>\n",
       "    </tr>\n",
       "    <tr>\n",
       "      <th>5</th>\n",
       "      <td>2014-08-27</td>\n",
       "      <td>1478</td>\n",
       "    </tr>\n",
       "    <tr>\n",
       "      <th>6</th>\n",
       "      <td>2015-08-26</td>\n",
       "      <td>1465</td>\n",
       "    </tr>\n",
       "    <tr>\n",
       "      <th>7</th>\n",
       "      <td>2014-10-16</td>\n",
       "      <td>1462</td>\n",
       "    </tr>\n",
       "    <tr>\n",
       "      <th>8</th>\n",
       "      <td>2014-10-02</td>\n",
       "      <td>1451</td>\n",
       "    </tr>\n",
       "    <tr>\n",
       "      <th>9</th>\n",
       "      <td>2015-07-28</td>\n",
       "      <td>1451</td>\n",
       "    </tr>\n",
       "  </tbody>\n",
       "</table>\n",
       "</div>"
      ],
      "text/plain": [
       "          day  num_trips\n",
       "0  2014-09-15       1515\n",
       "1  2014-08-26       1513\n",
       "2  2016-05-12       1497\n",
       "3  2014-10-14       1496\n",
       "4  2014-10-29       1496\n",
       "5  2014-08-27       1478\n",
       "6  2015-08-26       1465\n",
       "7  2014-10-16       1462\n",
       "8  2014-10-02       1451\n",
       "9  2015-07-28       1451"
      ]
     },
     "execution_count": 81,
     "metadata": {},
     "output_type": "execute_result"
    }
   ],
   "source": [
    "trips_by_day.head(10)"
   ]
  },
  {
   "cell_type": "markdown",
   "metadata": {},
   "source": [
    "I saw that of the top 10 busiest days in our data, 8 of them were in 2014 between the months of August and October. I then looked more closely at just those months.\n",
    "Looking at those dates, I recognized that the SF Giants won the World Series in 2014 and that the end of the season/post-season coincided with those months."
   ]
  },
  {
   "cell_type": "markdown",
   "metadata": {},
   "source": [
    "```sql\n",
    "SELECT DATE(start_date) AS day, count(*) AS num_trips\n",
    "FROM `liquid-receiver-288223.bike_trip_data.bikeshare_trips` \n",
    "WHERE duration_sec < 86400\n",
    "  AND (DATE(start_date) >= '2014-08-01' AND DATE(start_date) < '2014-11-01')\n",
    "GROUP BY day\n",
    "```"
   ]
  },
  {
   "cell_type": "code",
   "execution_count": 120,
   "metadata": {},
   "outputs": [
    {
     "name": "stdout",
     "output_type": "stream",
     "text": [
      "Waiting on bqjob_r76d88d53f7816aa6_00000174ddff7ad3_1 ... (1s) Current status: DONE   \n"
     ]
    }
   ],
   "source": [
    "! bq query --use_legacy_sql=FALSE --format=csv 'SELECT DATE(start_date) AS day, count(*) AS num_trips FROM `liquid-receiver-288223.bike_trip_data.bikeshare_trips` WHERE duration_sec < 86400 AND (DATE(start_date) >= \"2014-08-01\" AND DATE(start_date) < \"2014-11-01\") GROUP BY day ORDER BY day' > aug_oct_2014.csv"
   ]
  },
  {
   "cell_type": "code",
   "execution_count": 150,
   "metadata": {},
   "outputs": [],
   "source": [
    "aug_oct_2014 = pd.read_csv('aug_oct_2014.csv')"
   ]
  },
  {
   "cell_type": "code",
   "execution_count": 132,
   "metadata": {},
   "outputs": [],
   "source": [
    "giants_home_games=['2014-08-12','2014-08-13','2014-08-15','2014-08-16',\n",
    "                  '2014-08-17','2014-08-25','2014-08-26','2014-08-27',\n",
    "                   '2014-08-28','2014-08-29','2014-08-30','2014-08-31',\n",
    "                  '2014-09-09', '2014-09-10','2014-09-11','2014-09-12',\n",
    "                  '2014-09-13','2014-09-14','2014-09-25','2014-09-26',\n",
    "                   '2014-09-27','2014-09-28','2014-10-06','2014-10-07',\n",
    "                  '2014-10-14','2014-10-15','2014-10-16','2014-10-24',\n",
    "                  '2014-10-25','2014-10-26']"
   ]
  },
  {
   "cell_type": "code",
   "execution_count": 148,
   "metadata": {},
   "outputs": [
    {
     "data": {
      "image/png": "[encoded data removed]",
      "text/plain": [
       "<Figure size 432x288 with 1 Axes>"
      ]
     },
     "metadata": {
      "needs_background": "light"
     },
     "output_type": "display_data"
    }
   ],
   "source": [
    "plt.plot(aug_oct_2014['day'], aug_oct_2014['num_trips'])\n",
    "[plt.axvline(x=i, color='orange', alpha=0.6) for i in giants_home_games]\n",
    "plt.title(\"Number of Trips Per Day\")\n",
    "plt.xticks(['2014-08-01', '2014-09-01', '2014-10-01'])\n",
    "plt.xlabel('date')\n",
    "plt.ylabel('number of trips')\n",
    "plt.show()"
   ]
  },
  {
   "cell_type": "markdown",
   "metadata": {},
   "source": [
    "The graph above shows the number of trips per day in 2014 from August to October. The orange lines overlaid on the trip data represents the days where there were home games for the SF Giants during their winning season. These were also some of the days with the most bike sharing activity from 2014 to 2016. It would be beneficial for Lyft to offer promotions where they partner with venues for special events so that they can incentivize people to use bike sharing as their transportation to and from the venues. This could also be extended to other special events, such as concerts, festivals, and conferences."
   ]
  },
  {
   "cell_type": "markdown",
   "metadata": {},
   "source": [
    "## Referenced views and tables"
   ]
  },
  {
   "cell_type": "markdown",
   "metadata": {},
   "source": [
    "dow_time_trips: bike trip data with date and time features extracted\n",
    "```sql\n",
    "SELECT trip_id, duration_sec, start_station_name, end_station_name, start_station_id, end_station_id, subscriber_type, start_date,\n",
    "       EXTRACT(DAYOFWEEK FROM start_date) AS dow_int,\n",
    "       CASE EXTRACT(DAYOFWEEK FROM start_date)\n",
    "           WHEN 1 THEN \"Sunday\"\n",
    "           WHEN 2 THEN \"Monday\"\n",
    "           WHEN 3 THEN \"Tuesday\"\n",
    "           WHEN 4 THEN \"Wednesday\"\n",
    "           WHEN 5 THEN \"Thursday\"\n",
    "           WHEN 6 THEN \"Friday\"\n",
    "           WHEN 7 THEN \"Saturday\"\n",
    "           END AS dow_str,\n",
    "       CASE \n",
    "           WHEN EXTRACT(DAYOFWEEK FROM start_date) IN (1, 7) THEN \"Weekend\"\n",
    "           ELSE \"Weekday\"\n",
    "           END AS dow_weekday,\n",
    "       EXTRACT(HOUR FROM start_date) AS start_hour,\n",
    "       CASE \n",
    "           WHEN EXTRACT(HOUR FROM start_date) <= 5  OR EXTRACT(HOUR FROM start_date) >= 23 THEN \"Nightime\"\n",
    "           WHEN EXTRACT(HOUR FROM start_date) >= 6 and EXTRACT(HOUR FROM start_date) <= 8 THEN \"Morning\"\n",
    "           WHEN EXTRACT(HOUR FROM start_date) >= 9 and EXTRACT(HOUR FROM start_date) <= 10 THEN \"Mid Morning\"\n",
    "           WHEN EXTRACT(HOUR FROM start_date) >= 11 and EXTRACT(HOUR FROM start_date) <= 13 THEN \"Mid Day\"\n",
    "           WHEN EXTRACT(HOUR FROM start_date) >= 14 and EXTRACT(HOUR FROM start_date) <= 16 THEN \"Early Afternoon\"\n",
    "           WHEN EXTRACT(HOUR FROM start_date) >= 17 and EXTRACT(HOUR FROM start_date) <= 19 THEN \"Afternoon\"\n",
    "           WHEN EXTRACT(HOUR FROM start_date) >= 20 and EXTRACT(HOUR FROM start_date) <= 22 THEN \"Evening\"\n",
    "           END AS start_hour_str,\n",
    "       EXTRACT(MONTH FROM start_date) AS month_int,\n",
    "       CASE \n",
    "           WHEN EXTRACT(MONTH FROM start_date) = 12 OR EXTRACT(MONTH FROM start_date) <= 2 THEN \"Winter\"\n",
    "           WHEN EXTRACT(MONTH FROM start_date) >= 3 and EXTRACT(MONTH FROM start_date) <= 5 THEN \"Spring\"\n",
    "           WHEN EXTRACT(MONTH FROM start_date) >= 6 and EXTRACT(MONTH FROM start_date) <= 8 THEN \"Summer\"\n",
    "           WHEN EXTRACT(MONTH FROM start_date) >= 9 and EXTRACT(MONTH FROM start_date) <= 11 THEN \"Fall\"\n",
    "           END AS month_str\n",
    "FROM `bigquery-public-data.san_francisco.bikeshare_trips`\n",
    "ORDER BY start_date ASC\n",
    "```"
   ]
  },
  {
   "cell_type": "markdown",
   "metadata": {},
   "source": [
    "low_bikes: the stations and amount of time instances when there were fewer than 3 bikes\n",
    "```sql\n",
    "SELECT station_id, count(time) AS low_bikes FROM `liquid-receiver-288223.bike_trip_data.time_station_status` \n",
    "WHERE dow_weekday='Weekday'\n",
    "  AND (hour_str=\"Morning\" OR hour_str=\"Afternoon\")\n",
    "  AND bikes_available < 3\n",
    "GROUP BY station_id\n",
    "ORDER BY low_bikes DESC\n",
    "```"
   ]
  },
  {
   "cell_type": "markdown",
   "metadata": {},
   "source": [
    "most_popular_commuter_trips: start and end stations for commuter trips in descending popularity order\n",
    "```sql\n",
    "SELECT start_station_name, end_station_name, count(*) AS num_trips FROM `liquid-receiver-288223.bike_trip_data.commuter_trips` \n",
    "GROUP BY start_station_name, end_station_name \n",
    "ORDER BY num_trips DESC\n",
    "```"
   ]
  },
  {
   "cell_type": "code",
   "execution_count": null,
   "metadata": {},
   "outputs": [],
   "source": []
  }
 ],
 "metadata": {
  "environment": {
   "name": "tf2-2-3-gpu.2-3.m55",
   "type": "gcloud",
   "uri": "gcr.io/deeplearning-platform-release/tf2-2-3-gpu.2-3:m55"
  },
  "kernelspec": {
   "display_name": "Python 3",
   "language": "python",
   "name": "python3"
  },
  "language_info": {
   "codemirror_mode": {
    "name": "ipython",
    "version": 3
   },
   "file_extension": ".py",
   "mimetype": "text/x-python",
   "name": "python",
   "nbconvert_exporter": "python",
   "pygments_lexer": "ipython3",
   "version": "3.7.8"
  }
 },
 "nbformat": 4,
 "nbformat_minor": 4
}
